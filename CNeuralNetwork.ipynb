{
 "cells": [
  {
   "cell_type": "code",
   "execution_count": 1,
   "id": "existing-equilibrium",
   "metadata": {},
   "outputs": [
    {
     "ename": "SyntaxError",
     "evalue": "invalid syntax (<ipython-input-1-0e72d889ae9d>, line 8)",
     "output_type": "error",
     "traceback": [
      "\u001b[1;36m  File \u001b[1;32m\"<ipython-input-1-0e72d889ae9d>\"\u001b[1;36m, line \u001b[1;32m8\u001b[0m\n\u001b[1;33m    x_train, x_test=x_train/255. x_test/255\u001b[0m\n\u001b[1;37m                                 ^\u001b[0m\n\u001b[1;31mSyntaxError\u001b[0m\u001b[1;31m:\u001b[0m invalid syntax\n"
     ]
    }
   ],
   "source": [
    "import tensorflow as tf\n",
    "mnist = tf.keras.datasets.mnist\n",
    "#keras is an API\n",
    "(x_train, y_train), (x_test, y_test)=mnist.load_data()\n",
    "\n",
    "x_test.shape\n",
    "\n",
    "x_train, x_test=x_train/255. x_test/255\n",
    "\n",
    "model = tf.keras.Sequential()\n",
    "#Dense layer\n",
    "#Flattenlayer\n",
    "\n",
    "from tf.keras.layers import Dense,  MaxPooling2D, Conv2D, Flatten\n",
    "#making convulation layer simalarly we can make Dense layer in place of (Conv2D/DEnse)\n",
    "# 32 is no of kernal used,\n",
    "# (3, 3) is the 3*3 matrics,more kernal size more compuration power required\n",
    "model.add(Conv2D(32, kernal_size=(3,3), activation='relu', input_shape=(28, 28, 1)))# 28*28 is pixel and 1 is no of matrix\n",
    "# the output of above layer gives 32 picture of resolution 26*26 as output\n",
    "model.add(MaxPooling2D(pool_size=(2,2)))#32*13*13 # this layer resolves the 26*26 image to 13*13 \n",
    "#generally pooling size is of (2,2)\n",
    "\n",
    "model.add(Flatten)#5408\n",
    "model.add(Dense(300, activation='relu'))\n",
    "model.add(Dense(10, activation='sigmoid'))\n",
    "\n",
    "model.compile(loss=tf.keras.losses.SparseCategoricalCrossentropy(from_logits=True),\n",
    "             optimizer=tf.keras.optimizer.SGD(learning_rate=0.05), metrics=['accurecy'])\n",
    "\n",
    "\n"
   ]
  },
  {
   "cell_type": "code",
   "execution_count": null,
   "id": "korean-split",
   "metadata": {},
   "outputs": [],
   "source": []
  }
 ],
 "metadata": {
  "kernelspec": {
   "display_name": "Python 3",
   "language": "python",
   "name": "python3"
  },
  "language_info": {
   "codemirror_mode": {
    "name": "ipython",
    "version": 3
   },
   "file_extension": ".py",
   "mimetype": "text/x-python",
   "name": "python",
   "nbconvert_exporter": "python",
   "pygments_lexer": "ipython3",
   "version": "3.8.5"
  }
 },
 "nbformat": 4,
 "nbformat_minor": 5
}
